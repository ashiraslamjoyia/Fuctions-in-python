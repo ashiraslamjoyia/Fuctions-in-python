{
 "cells": [
  {
   "cell_type": "code",
   "execution_count": null,
   "id": "0e175a51",
   "metadata": {},
   "outputs": [],
   "source": [
    "## ASHIR ASLAM \n",
    "## fa24-bbd-057"
   ]
  },
  {
   "cell_type": "code",
   "execution_count": 18,
   "id": "b966bc98",
   "metadata": {},
   "outputs": [
    {
     "name": "stdout",
     "output_type": "stream",
     "text": [
      "Hello, Ali! The current time is 12:17.\n"
     ]
    }
   ],
   "source": [
    "import time\n",
    "\n",
    "def greet_with_time(name):\n",
    "    current_time = time.strftime(\"%H:%M\")\n",
    "    print(f\"Hello, {name}! The current time is {current_time}.\")\n",
    "\n",
    "greet_with_time(\"Ali\")"
   ]
  },
  {
   "cell_type": "code",
   "execution_count": 4,
   "id": "1ec633b9",
   "metadata": {},
   "outputs": [
    {
     "name": "stdout",
     "output_type": "stream",
     "text": [
      "The average is: 20.0\n"
     ]
    }
   ],
   "source": [
    "def calculate_average(num1, num2, num3):\n",
    "    return (num1 + num2 + num3) / 3\n",
    "average = calculate_average(10, 20, 30)\n",
    "print(f\"The average is: {average}\")"
   ]
  },
  {
   "cell_type": "code",
   "execution_count": 8,
   "id": "3540b9fc",
   "metadata": {},
   "outputs": [
    {
     "name": "stdout",
     "output_type": "stream",
     "text": [
      "Discounted price: 90.0\n",
      "Discounted price with custom discount: 80.0\n"
     ]
    }
   ],
   "source": [
    "def calculate_discount(price, discount_percentage=10):\n",
    "    return price - (price * discount_percentage / 100)\n",
    "discounted_price = calculate_discount(100)\n",
    "print(f\"Discounted price: {discounted_price}\")\n",
    "\n",
    "discounted_price_with_custom_discount = calculate_discount(100, 20)\n",
    "print(f\"Discounted price with custom discount: {discounted_price_with_custom_discount}\")\n"
   ]
  },
  {
   "cell_type": "code",
   "execution_count": 1,
   "id": "dbba6b0e",
   "metadata": {},
   "outputs": [
    {
     "name": "stdout",
     "output_type": "stream",
     "text": [
      "Name: ahmed\n",
      "Age: 18\n",
      "City: lahore\n"
     ]
    }
   ],
   "source": [
    "def print_info(*, name, age, city):\n",
    "    print(f\"Name: {name}\")\n",
    "    print(f\"Age: {age}\")\n",
    "    print(f\"City: {city}\")\n",
    "print_info(name=\"ahmed\", age=18, city=\"lahore\")\n"
   ]
  },
  {
   "cell_type": "code",
   "execution_count": 10,
   "id": "1668073d",
   "metadata": {},
   "outputs": [
    {
     "name": "stdout",
     "output_type": "stream",
     "text": [
      "The maximum value is: 9\n"
     ]
    }
   ],
   "source": [
    "def find_max(*args):\n",
    "    return max(args)\n",
    "maximum = find_max(3, 5, 9, 2, 8)\n",
    "print(f\"The maximum value is: {maximum}\")\n"
   ]
  },
  {
   "cell_type": "code",
   "execution_count": 11,
   "id": "40e84c59",
   "metadata": {},
   "outputs": [
    {
     "name": "stdout",
     "output_type": "stream",
     "text": [
      "The factorial of 5 is: 120\n"
     ]
    }
   ],
   "source": [
    "def factorial(n):\n",
    "    if n == 0 or n == 1:\n",
    "        return 1\n",
    "    return n * factorial(n - 1)\n",
    "result = factorial(5)\n",
    "print(f\"The factorial of 5 is: {result}\")\n"
   ]
  },
  {
   "cell_type": "code",
   "execution_count": 12,
   "id": "29deaed0",
   "metadata": {},
   "outputs": [
    {
     "name": "stdout",
     "output_type": "stream",
     "text": [
      "Result: [1, 4, 9, 16, 25]\n"
     ]
    }
   ],
   "source": [
    "def apply_function(func, numbers):\n",
    "    return [func(num) for num in numbers]\n",
    "def square(x):\n",
    "    return x ** 2\n",
    "\n",
    "result = apply_function(square, [1, 2, 3, 4, 5])\n",
    "print(f\"Result: {result}\")\n"
   ]
  },
  {
   "cell_type": "code",
   "execution_count": 13,
   "id": "aceeeba1",
   "metadata": {},
   "outputs": [
    {
     "name": "stdout",
     "output_type": "stream",
     "text": [
      "The square of 5 is: 25\n"
     ]
    }
   ],
   "source": [
    "square = lambda x: x ** 2\n",
    "result = square(5)\n",
    "print(f\"The square of 5 is: {result}\")\n"
   ]
  },
  {
   "cell_type": "code",
   "execution_count": 14,
   "id": "defdf0cf",
   "metadata": {},
   "outputs": [
    {
     "name": "stdout",
     "output_type": "stream",
     "text": [
      "Result: [2, 4, 6, 8, 10]\n"
     ]
    }
   ],
   "source": [
    "def apply_operation(func, numbers):\n",
    "    return [func(num) for num in numbers]\n",
    "def double(x):\n",
    "    return x * 2\n",
    "\n",
    "result = apply_operation(double, [1, 2, 3, 4, 5])\n",
    "print(f\"Result: {result}\")\n"
   ]
  },
  {
   "cell_type": "code",
   "execution_count": null,
   "id": "157fe410",
   "metadata": {},
   "outputs": [],
   "source": []
  }
 ],
 "metadata": {
  "kernelspec": {
   "display_name": "base",
   "language": "python",
   "name": "python3"
  },
  "language_info": {
   "codemirror_mode": {
    "name": "ipython",
    "version": 3
   },
   "file_extension": ".py",
   "mimetype": "text/x-python",
   "name": "python",
   "nbconvert_exporter": "python",
   "pygments_lexer": "ipython3",
   "version": "3.12.4"
  }
 },
 "nbformat": 4,
 "nbformat_minor": 5
}
